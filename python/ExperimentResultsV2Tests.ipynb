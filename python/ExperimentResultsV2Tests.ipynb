{
 "cells": [
  {
   "cell_type": "code",
   "execution_count": null,
   "metadata": {
    "scrolled": false,
    "pycharm": {
     "is_executing": false
    }
   },
   "outputs": [],
   "source": [
    "import pandas as pd\n",
    "import numpy\n",
    "import matplotlib.pyplot as plt\n",
    "import math\n",
    "from sklearn.metrics import mean_absolute_error\n",
    "import keras\n",
    "from keras.models import Sequential\n",
    "from keras.layers import Dense\n",
    "from keras.wrappers.scikit_learn import KerasRegressor\n",
    "from sklearn.model_selection import cross_val_score\n",
    "from sklearn.model_selection import KFold\n",
    "from sklearn.preprocessing import StandardScaler\n",
    "from sklearn.pipeline import Pipeline\n",
    "from keras.layers import Dense, Dropout, Activation\n",
    "from sklearn.metrics import mean_absolute_error\n",
    "from sklearn.model_selection import train_test_split\n",
    "import numpy as np\n",
    "import pickle\n",
    "from sklearn.linear_model import LinearRegression\n",
    "from joblib import dump, load\n",
    "from mpl_toolkits import mplot3d\n",
    "np.set_printoptions(suppress=True)\n",
    "seed = 2\n",
    "import random\n",
    "random.seed(seed)\n",
    "numpy.random.seed(seed)\n",
    "\n",
    "plt.rcParams['figure.figsize'] = [13, 7]"
   ]
  },
  {
   "cell_type": "markdown",
   "metadata": {},
   "source": [
    "# 1 Unity model compensation"
   ]
  },
  {
   "cell_type": "code",
   "execution_count": null,
   "metadata": {
    "scrolled": false,
    "pycharm": {
     "is_executing": false
    }
   },
   "outputs": [],
   "source": [
    "simulated_kinematicsMass1 = pd.read_csv(\"../datasets/final/simulated_kinematicsMass1.csv\")\n",
    "simulated_kinematicsMass2 = pd.read_csv(\"../datasets/final/simulated_kinematicsMass2.csv\")\n",
    "simulated_kinematicsMass1.head()"
   ]
  },
  {
   "cell_type": "code",
   "execution_count": null,
   "metadata": {
    "scrolled": false,
    "pycharm": {
     "is_executing": false
    }
   },
   "outputs": [],
   "source": [
    "simulated_kinematicsMass1.describe()"
   ]
  },
  {
   "cell_type": "code",
   "execution_count": null,
   "metadata": {
    "scrolled": false,
    "pycharm": {
     "is_executing": false
    }
   },
   "outputs": [],
   "source": [
    "simulated_kinematicsMass2.describe()"
   ]
  },
  {
   "cell_type": "code",
   "execution_count": null,
   "metadata": {
    "scrolled": false,
    "pycharm": {
     "is_executing": false
    }
   },
   "outputs": [],
   "source": [
    "#lest vizualise some data\n",
    "fig = plt.figure()\n",
    "ax = plt.axes(projection='3d')\n",
    "\n",
    "# Data for three-dimensional scattered points\n",
    "zdata = simulated_kinematicsMass1[\"z\"][0:500]\n",
    "xdata = simulated_kinematicsMass1[\"x\"][0:500]\n",
    "ydata = simulated_kinematicsMass1[\"y\"][0:500]\n",
    "ax.scatter3D(xdata, ydata, zdata, c=zdata, cmap='Greens');\n",
    "# Data for three-dimensional scattered points\n",
    "zdata = simulated_kinematicsMass1[\"tz\"][0:500]\n",
    "xdata = simulated_kinematicsMass1[\"tx\"][0:500]\n",
    "ydata = simulated_kinematicsMass1[\"ty\"][0:500]\n",
    "ax.scatter3D(xdata, ydata, zdata, c=zdata, cmap='Reds');\n",
    "ax.legend(['Measurements', 'Reference'])\n"
   ]
  },
  {
   "cell_type": "code",
   "execution_count": null,
   "metadata": {
    "scrolled": false,
    "pycharm": {
     "is_executing": false
    }
   },
   "outputs": [],
   "source": [
    "#lets convert frame from unity to robot frame\n",
    "\n",
    "def Unity2R(x,y,z):\n",
    "    return z,-x,y\n",
    "        \n",
    "def R2Unity(x,y,z):\n",
    "    return -y,z,x\n",
    "\n",
    "sim_X1 = pd.DataFrame(columns=['x', 'y', 'z'])\n",
    "sim_M1 = pd.DataFrame(columns=['tx', 'ty', 'tz'])\n",
    "\n",
    "for index, row in simulated_kinematicsMass1.iterrows():\n",
    "    x,y,z = Unity2R(row[\"x\"],row[\"y\"],row[\"z\"])\n",
    "    sim_X1 = sim_X1.append({'x': x,'y': y,'z': z }, ignore_index=True)\n",
    "    \n",
    "for index, row in simulated_kinematicsMass1.iterrows():\n",
    "    x,y,z = Unity2R(row[\"tx\"],row[\"ty\"],row[\"tz\"])\n",
    "    sim_M1 = sim_M1.append({'tx': x,'ty': y,'tz': z }, ignore_index=True) \n",
    "    \n",
    "sim_X2 = pd.DataFrame(columns=['x', 'y', 'z'])\n",
    "sim_M2 = pd.DataFrame(columns=['tx', 'ty', 'tz'])\n",
    "\n",
    "for index, row in simulated_kinematicsMass2.iterrows():\n",
    "    x,y,z = Unity2R(row[\"x\"],row[\"y\"],row[\"z\"])\n",
    "    sim_X2 = sim_X2.append({'x': x,'y': y,'z': z }, ignore_index=True)\n",
    "    \n",
    "for index, row in simulated_kinematicsMass2.iterrows():\n",
    "    x,y,z = Unity2R(row[\"tx\"],row[\"ty\"],row[\"tz\"])\n",
    "    sim_M2 = sim_M2.append({'tx': x,'ty': y,'tz': z }, ignore_index=True) \n",
    "    "
   ]
  },
  {
   "cell_type": "code",
   "execution_count": null,
   "metadata": {
    "scrolled": false,
    "pycharm": {
     "is_executing": false
    }
   },
   "outputs": [],
   "source": [
    "#lest vizualise some data\n",
    "fig = plt.figure()\n",
    "ax = plt.axes(projection='3d')\n",
    "\n",
    "# Data for three-dimensional scattered points\n",
    "zdata = sim_X1[\"z\"][0:500]\n",
    "xdata = sim_X1[\"x\"][0:500]\n",
    "ydata = sim_X1[\"y\"][0:500]\n",
    "ax.scatter3D(xdata, ydata, zdata, c=zdata, cmap='Greens');\n",
    "# Data for three-dimensional scattered points\n",
    "zdata = sim_M1[\"tz\"][0:500]\n",
    "xdata = sim_M1[\"tx\"][0:500]\n",
    "ydata = sim_M1[\"ty\"][0:500]\n",
    "ax.scatter3D(xdata, ydata, zdata, c=zdata, cmap='Reds');\n",
    "ax.legend(['Measurements', 'Reference'])"
   ]
  },
  {
   "cell_type": "code",
   "execution_count": null,
   "metadata": {
    "scrolled": false,
    "pycharm": {
     "is_executing": false
    }
   },
   "outputs": [],
   "source": [
    "#lest vizualise some data\n",
    "fig = plt.figure()\n",
    "ax = plt.axes(projection='3d')\n",
    "\n",
    "# Data for three-dimensional scattered points\n",
    "zdata = sim_X2[\"z\"][0:500]\n",
    "xdata = sim_X2[\"x\"][0:500]\n",
    "ydata = sim_X2[\"y\"][0:500]\n",
    "ax.scatter3D(xdata, ydata, zdata, c=zdata, cmap='Greens');\n",
    "# Data for three-dimensional scattered points\n",
    "zdata = sim_M2[\"tz\"][0:500]\n",
    "xdata = sim_M2[\"tx\"][0:500]\n",
    "ydata = sim_M2[\"ty\"][0:500]\n",
    "ax.scatter3D(xdata, ydata, zdata, c=zdata, cmap='Reds');\n",
    "ax.legend(['Measurements', 'Reference'])"
   ]
  },
  {
   "cell_type": "code",
   "execution_count": null,
   "metadata": {
    "scrolled": false,
    "pycharm": {
     "is_executing": false
    }
   },
   "outputs": [],
   "source": [
    "sim_Y1=pd.DataFrame()\n",
    "sim_Y1[\"ex\"] = sim_M1[\"tx\"]-sim_X1[\"x\"]\n",
    "sim_Y1[\"ey\"] = sim_M1[\"ty\"]-sim_X1[\"y\"]\n",
    "sim_Y1[\"ez\"] = sim_M1[\"tz\"]-sim_X1[\"z\"]\n",
    "sim_Y1.describe()"
   ]
  },
  {
   "cell_type": "code",
   "execution_count": null,
   "metadata": {
    "scrolled": false,
    "pycharm": {
     "is_executing": false
    }
   },
   "outputs": [],
   "source": [
    "sim_Y2=pd.DataFrame()\n",
    "sim_Y2[\"ex\"] = sim_M2[\"tx\"]-sim_X2[\"x\"]\n",
    "sim_Y2[\"ey\"] = sim_M2[\"ty\"]-sim_X2[\"y\"]\n",
    "sim_Y2[\"ez\"] = sim_M2[\"tz\"]-sim_X2[\"z\"]\n",
    "sim_Y2.describe()"
   ]
  },
  {
   "cell_type": "code",
   "execution_count": null,
   "metadata": {
    "scrolled": false,
    "pycharm": {
     "is_executing": false
    }
   },
   "outputs": [],
   "source": [
    "err=mean_absolute_error(np.zeros(sim_Y1.shape),sim_Y1)\n",
    "print(\"Error in sim mass 1: \"+str(err))"
   ]
  },
  {
   "cell_type": "code",
   "execution_count": null,
   "metadata": {
    "scrolled": false,
    "pycharm": {
     "is_executing": false
    }
   },
   "outputs": [],
   "source": [
    "err=mean_absolute_error(np.zeros(sim_Y2.shape),sim_Y2)\n",
    "print(\"Error in sim mass 2: \"+str(err))"
   ]
  },
  {
   "cell_type": "code",
   "execution_count": null,
   "metadata": {
    "scrolled": false,
    "pycharm": {
     "is_executing": false
    }
   },
   "outputs": [],
   "source": [
    "scalerX1 = StandardScaler()\n",
    "sim_X1_scaled = scalerX1.fit_transform(sim_X1)\n",
    "dump(scalerX1, 'sim_scalerX1.joblib')\n",
    "\n",
    "scalerX2 = StandardScaler()\n",
    "sim_X2_scaled = scalerX2.fit_transform(sim_X2)\n",
    "dump(scalerX2, 'sim_scalerX2.joblib')\n",
    "\n",
    "sim_X2_scaled_X1 = scalerX1.fit_transform(sim_X2)\n",
    "\n",
    "\n"
   ]
  },
  {
   "cell_type": "code",
   "execution_count": null,
   "metadata": {
    "pycharm": {
     "is_executing": false
    }
   },
   "outputs": [],
   "source": [
    "def baseline_model(activation='tanh'):\n",
    "    model = Sequential()\n",
    "    model.add(Dense(8, input_dim=3, kernel_initializer='normal', activation=activation))\n",
    "    model.add(Dense(3, kernel_initializer='normal'))\n",
    "    model.compile(loss='mean_absolute_error', optimizer='adam',metrics=['mean_absolute_error'])\n",
    "    return model"
   ]
  },
  {
   "cell_type": "code",
   "execution_count": null,
   "metadata": {
    "pycharm": {
     "is_executing": false
    }
   },
   "outputs": [],
   "source": [
    "arr=[]\n",
    "arr1 = [0,1,2]\n",
    "arr2 = [0,1,1]\n",
    "arr.append(arr1)\n",
    "arr.append(arr2)\n",
    "arr.append(arr2)\n",
    "print(arr)\n",
    "\n",
    "#pure python crossval\n",
    "def mean(a):\n",
    "    return sum(a) / len(a)\n",
    "\n",
    "def mean_results(res):\n",
    "    return list(map(mean, zip(*res)))\n",
    "    \n",
    "print(mean_results(arr))\n",
    "\n",
    "num_attempts=4"
   ]
  },
  {
   "cell_type": "code",
   "execution_count": null,
   "metadata": {
    "scrolled": false,
    "pycharm": {
     "is_executing": false
    }
   },
   "outputs": [],
   "source": [
    "#params\n",
    "epochs=10\n",
    "fromepochs=round(1000/epochs)\n",
    "toepochs=round(10000/epochs)\n",
    "\n",
    "plt_err1=[]\n",
    "plt_err2=[]\n",
    "\n",
    "for attempt in range(num_attempts):\n",
    "    #generate samples, train and evaluate\n",
    "    X_train, X_test, y_train, y_test = train_test_split(sim_X1_scaled, sim_Y1, test_size=0.8, random_state=seed+attempt)\n",
    "    y_train.describe()\n",
    "\n",
    "    model = baseline_model(activation='tanh')\n",
    "\n",
    "    def train(ep):\n",
    "        model.fit(X_train,y_train,epochs=epochs,batch_size=300, verbose=0)\n",
    "        pred1=model.predict(X_train)\n",
    "        pred2=model.predict(X_test)\n",
    "        err1=mean_absolute_error(pred1,y_train)\n",
    "        err2=mean_absolute_error(pred2,y_test)\n",
    "        return err1,err2\n",
    "\n",
    "    plt_err1_l=[]\n",
    "    plt_err2_l=[]\n",
    "    epch=[]\n",
    "    for ep in range(1,toepochs):\n",
    "        err1,err2=train(ep)\n",
    "        plt_err1_l.append(err1)\n",
    "        plt_err2_l.append(err2)\n",
    "        epch.append(ep)\n",
    "    model.save('sim_modelX1.h5')\n",
    "    \n",
    "    plt_err1.append(plt_err1_l)\n",
    "    plt_err2.append(plt_err2_l)\n",
    "    \n",
    "#av results\n",
    "plt_err1=mean_results(plt_err1)\n",
    "plt_err2=mean_results(plt_err2)\n",
    "\n",
    "plt.plot(epch[fromepochs:],plt_err1[fromepochs:],label=\"Training Loss\")\n",
    "plt.plot(epch[fromepochs:],plt_err2[fromepochs:],'r--',label=\"Test Loss\")\n",
    "plt.xlabel('Epoch')\n",
    "plt.ylabel('Loss')\n",
    "plt.legend()\n",
    "plt.show()\n",
    "\n",
    "print(plt_err2[-5:-1])\n",
    "#with scaling [0.0008571595238669327, 0.0008648160827657058, 0.0009000820402912723, 0.0009091522574097019]\n",
    "\n",
    "\n",
    "backup=pd.DataFrame()\n",
    "backup[\"epch\"] = epch\n",
    "backup[\"plt_err1\"] = plt_err1\n",
    "backup[\"plt_err2\"] = plt_err2\n",
    "backup.to_csv(\"figure7.csv\", index = None, header=True)\n"
   ]
  },
  {
   "cell_type": "markdown",
   "metadata": {},
   "source": [
    "# 2 Unity model tranfer learning"
   ]
  },
  {
   "cell_type": "code",
   "execution_count": null,
   "metadata": {
    "scrolled": false,
    "pycharm": {
     "is_executing": false
    }
   },
   "outputs": [],
   "source": [
    "#with new scaling\n",
    "\n",
    "plt_err1=[]\n",
    "plt_err2=[]\n",
    "plt_err1_linear=[]\n",
    "plt_err2_linear=[]\n",
    "plt_err1_transferred=[]\n",
    "plt_err2_transferred=[]\n",
    "\n",
    "for attempt in range(num_attempts):\n",
    "    X_train, X_test, y_train, y_test = train_test_split(sim_X2_scaled, sim_Y2, test_size=0.8, random_state=seed+attempt)\n",
    "\n",
    "\n",
    "    plt_err1_l=[]\n",
    "    plt_err2_l=[]\n",
    "    plt_err1_linear_l=[]\n",
    "    plt_err2_linear_l=[]\n",
    "    plt_err1_transferred_l=[]\n",
    "    plt_err2_transferred_l=[]\n",
    "    numsamples=[]\n",
    "\n",
    "\n",
    "    for numsample in range(2, 15):\n",
    "        print(\"Estimating num samples: \"+str(numsample*10))\n",
    "        modelTransferred = keras.models.load_model('sim_modelX1.h5')\n",
    "        model_linear = LinearRegression()\n",
    "        modelNew = baseline_model(activation='tanh')\n",
    "\n",
    "        modelNew.fit(X_train[0:numsample*10],y_train[0:numsample*10],epochs=10 + round(numsample*400),batch_size=numsample, verbose=0)\n",
    "        pred1=modelNew.predict(X_train)\n",
    "        pred2=modelNew.predict(X_test)\n",
    "        err1=mean_absolute_error(pred1,y_train)\n",
    "        err2=mean_absolute_error(pred2,y_test)\n",
    "\n",
    "        modelTransferred.fit(X_train[0:numsample*10],y_train[0:numsample*10],epochs=10 + round(numsample*400),batch_size=numsample, verbose=0)\n",
    "        pred1=modelTransferred.predict(X_train)\n",
    "        pred2=modelTransferred.predict(X_test)\n",
    "        err3=mean_absolute_error(pred1,y_train)\n",
    "        err4=mean_absolute_error(pred2,y_test)\n",
    "\n",
    "        model_linear.fit(X_train[0:numsample*10],y_train[0:numsample*10])\n",
    "        pred1=model_linear.predict(X_train)\n",
    "        pred2=model_linear.predict(X_test)\n",
    "        err5=mean_absolute_error(pred1,y_train)\n",
    "        err6=mean_absolute_error(pred2,y_test)\n",
    "\n",
    "        plt_err1_l.append(err1)\n",
    "        plt_err2_l.append(err2)\n",
    "\n",
    "        plt_err1_transferred_l.append(err3)\n",
    "        plt_err2_transferred_l.append(err4)\n",
    "\n",
    "        plt_err1_linear_l.append(err5)\n",
    "        plt_err2_linear_l.append(err6)\n",
    "\n",
    "        numsamples.append(numsample*10)\n",
    "        \n",
    "        plt_err1.append(plt_err1_l)\n",
    "        plt_err2.append(plt_err2_l)\n",
    "        plt_err1_linear.append(plt_err1_linear_l)\n",
    "        plt_err2_linear.append(plt_err2_linear_l)\n",
    "        plt_err1_transferred.append(plt_err1_transferred_l)\n",
    "        plt_err2_transferred.append(plt_err2_transferred_l)\n",
    "\n",
    "\n",
    "#av results\n",
    "plt_err1=mean_results(plt_err1)\n",
    "plt_err2=mean_results(plt_err2)\n",
    "plt_err1_linear=mean_results(plt_err1_linear)\n",
    "plt_err2_linear=mean_results(plt_err2_linear)\n",
    "plt_err1_transferred=mean_results(plt_err1_transferred)\n",
    "plt_err2_transferred=mean_results(plt_err2_transferred)\n",
    "    \n",
    "    \n",
    "    \n",
    "    \n",
    "plt.plot(numsamples,plt_err1,'r--',label=\"Training dist\")\n",
    "plt.plot(numsamples,plt_err2,'r',label=\"Test dist\")\n",
    "\n",
    "plt.plot(numsamples,plt_err1_linear,'g--',label=\"Training dist linear\")\n",
    "plt.plot(numsamples,plt_err2_linear,'g',label=\"Test dist linear\")\n",
    "\n",
    "plt.plot(numsamples,plt_err1_transferred,'b--',label=\"Training dist Transfered\")\n",
    "plt.plot(numsamples,plt_err2_transferred,'b',label=\"Test dist Transfered\")\n",
    "\n",
    "plt.xlabel('Samples')\n",
    "plt.ylabel('Loss')\n",
    "plt.legend()\n",
    "plt.show()\n",
    "\n",
    "\n",
    "backup=pd.DataFrame()\n",
    "backup[\"numsamples\"] = numsamples\n",
    "backup[\"plt_err1\"] = plt_err1\n",
    "backup[\"plt_err2\"] = plt_err2\n",
    "backup[\"plt_err1_linear\"] = plt_err1_linear\n",
    "backup[\"plt_err2_linear\"] = plt_err2_linear\n",
    "backup[\"plt_err1_transferred\"] = plt_err1_transferred\n",
    "backup[\"plt_err2_transferred\"] = plt_err2_transferred\n",
    "backup.to_csv(\"figure8.csv\", index = None, header=True)\n",
    "\n"
   ]
  },
  {
   "cell_type": "code",
   "execution_count": null,
   "metadata": {
    "pycharm": {
     "is_executing": false
    }
   },
   "outputs": [],
   "source": [
    "#with x1 old scaling\n",
    "\n",
    "plt_err1=[]\n",
    "plt_err2=[]\n",
    "plt_err1_linear=[]\n",
    "plt_err2_linear=[]\n",
    "plt_err1_transferred=[]\n",
    "plt_err2_transferred=[]\n",
    "\n",
    "for attempt in range(num_attempts):\n",
    "    X_train, X_test, y_train, y_test = train_test_split(sim_X2_scaled_X1, sim_Y2, test_size=0.8, random_state=seed+attempt)\n",
    "\n",
    "\n",
    "    plt_err1_l=[]\n",
    "    plt_err2_l=[]\n",
    "    plt_err1_linear_l=[]\n",
    "    plt_err2_linear_l=[]\n",
    "    plt_err1_transferred_l=[]\n",
    "    plt_err2_transferred_l=[]\n",
    "    numsamples=[]\n",
    "\n",
    "\n",
    "    for numsample in range(2, 15):\n",
    "        print(\"Estimating num samples: \"+str(numsample*10))\n",
    "        modelTransferred = keras.models.load_model('sim_modelX1.h5')\n",
    "        model_linear = LinearRegression()\n",
    "        modelNew = baseline_model(activation='tanh')\n",
    "\n",
    "        modelNew.fit(X_train[0:numsample*10],y_train[0:numsample*10],epochs=10 + round(numsample*400),batch_size=numsample, verbose=0)\n",
    "        pred1=modelNew.predict(X_train)\n",
    "        pred2=modelNew.predict(X_test)\n",
    "        err1=mean_absolute_error(pred1,y_train)\n",
    "        err2=mean_absolute_error(pred2,y_test)\n",
    "\n",
    "        modelTransferred.fit(X_train[0:numsample*10],y_train[0:numsample*10],epochs=10 + round(numsample*400),batch_size=numsample, verbose=0)\n",
    "        pred1=modelTransferred.predict(X_train)\n",
    "        pred2=modelTransferred.predict(X_test)\n",
    "        err3=mean_absolute_error(pred1,y_train)\n",
    "        err4=mean_absolute_error(pred2,y_test)\n",
    "\n",
    "        model_linear.fit(X_train[0:numsample*10],y_train[0:numsample*10])\n",
    "        pred1=model_linear.predict(X_train)\n",
    "        pred2=model_linear.predict(X_test)\n",
    "        err5=mean_absolute_error(pred1,y_train)\n",
    "        err6=mean_absolute_error(pred2,y_test)\n",
    "\n",
    "        plt_err1_l.append(err1)\n",
    "        plt_err2_l.append(err2)\n",
    "\n",
    "        plt_err1_transferred_l.append(err3)\n",
    "        plt_err2_transferred_l.append(err4)\n",
    "\n",
    "        plt_err1_linear_l.append(err5)\n",
    "        plt_err2_linear_l.append(err6)\n",
    "\n",
    "        numsamples.append(numsample*10)\n",
    "        \n",
    "        plt_err1.append(plt_err1_l)\n",
    "        plt_err2.append(plt_err2_l)\n",
    "        plt_err1_linear.append(plt_err1_linear_l)\n",
    "        plt_err2_linear.append(plt_err2_linear_l)\n",
    "        plt_err1_transferred.append(plt_err1_transferred_l)\n",
    "        plt_err2_transferred.append(plt_err2_transferred_l)\n",
    "\n",
    "\n",
    "#av results\n",
    "plt_err1=mean_results(plt_err1)\n",
    "plt_err2=mean_results(plt_err2)\n",
    "plt_err1_linear=mean_results(plt_err1_linear)\n",
    "plt_err2_linear=mean_results(plt_err2_linear)\n",
    "plt_err1_transferred=mean_results(plt_err1_transferred)\n",
    "plt_err2_transferred=mean_results(plt_err2_transferred)\n",
    "    \n",
    "    \n",
    "    \n",
    "    \n",
    "plt.plot(numsamples,plt_err1,'r--',label=\"Training dist\")\n",
    "plt.plot(numsamples,plt_err2,'r',label=\"Test dist\")\n",
    "\n",
    "plt.plot(numsamples,plt_err1_linear,'g--',label=\"Training dist linear\")\n",
    "plt.plot(numsamples,plt_err2_linear,'g',label=\"Test dist linear\")\n",
    "\n",
    "plt.plot(numsamples,plt_err1_transferred,'b--',label=\"Training dist Transfered\")\n",
    "plt.plot(numsamples,plt_err2_transferred,'b',label=\"Test dist Transfered\")\n",
    "\n",
    "plt.xlabel('Samples')\n",
    "plt.ylabel('Loss')\n",
    "plt.legend()\n",
    "plt.show()\n",
    "\n",
    "\n",
    "backup=pd.DataFrame()\n",
    "backup[\"numsamples\"] = numsamples\n",
    "backup[\"plt_err1\"] = plt_err1\n",
    "backup[\"plt_err2\"] = plt_err2\n",
    "backup[\"plt_err1_linear\"] = plt_err1_linear\n",
    "backup[\"plt_err2_linear\"] = plt_err2_linear\n",
    "backup[\"plt_err1_transferred\"] = plt_err1_transferred\n",
    "backup[\"plt_err2_transferred\"] = plt_err2_transferred\n",
    "backup.to_csv(\"figure8.csv\", index = None, header=True)\n",
    "\n"
   ]
  },
  {
   "cell_type": "markdown",
   "metadata": {},
   "source": [
    "# 3.3 Real robot to real robot with different mass compensation"
   ]
  },
  {
   "cell_type": "code",
   "execution_count": null,
   "metadata": {
    "scrolled": false,
    "pycharm": {
     "is_executing": false
    }
   },
   "outputs": [],
   "source": [
    "real_17kg = pd.read_csv(\"datasets/final/real_17kg.csv\", names=[\"y\",\"x\",\"z\",\"ty\",\"tx\",\"tz\"])\n",
    "real_17kg=real_17kg/1000\n",
    "real_33kg = pd.read_csv(\"datasets/final/real_33kg.csv\", names=[\"y\",\"x\",\"z\",\"ty\",\"tx\",\"tz\"])\n",
    "real_33kg=real_33kg/1000\n",
    "real_5kg = pd.read_csv(\"datasets/final/real_5kg.csv\", names=[\"y\",\"x\",\"z\",\"ty\",\"tx\",\"tz\"])\n",
    "real_5kg=real_5kg/1000\n",
    "real_17kg.head()"
   ]
  },
  {
   "cell_type": "code",
   "execution_count": null,
   "metadata": {
    "scrolled": false,
    "pycharm": {
     "is_executing": false
    }
   },
   "outputs": [],
   "source": [
    "real_5kg.describe()"
   ]
  },
  {
   "cell_type": "code",
   "execution_count": null,
   "metadata": {
    "pycharm": {
     "is_executing": false
    }
   },
   "outputs": [],
   "source": [
    "real_33kg.describe()"
   ]
  },
  {
   "cell_type": "code",
   "execution_count": null,
   "metadata": {
    "scrolled": false,
    "pycharm": {
     "is_executing": false
    }
   },
   "outputs": [],
   "source": [
    "#lest vizualise some data\n",
    "fig = plt.figure()\n",
    "ax = plt.axes(projection='3d')\n",
    "\n",
    "# Data for three-dimensional scattered points\n",
    "zdata = real_17kg[\"z\"][0:1000]\n",
    "xdata = real_17kg[\"x\"][0:1000]\n",
    "ydata = real_17kg[\"y\"][0:1000]\n",
    "ax.scatter3D(xdata, ydata, zdata, c=zdata, cmap='Greens');\n",
    "# Data for three-dimensional scattered points\n",
    "zdata = real_17kg[\"tz\"][0:1000]\n",
    "xdata = real_17kg[\"tx\"][0:1000]\n",
    "ydata = real_17kg[\"ty\"][0:1000]\n",
    "ax.scatter3D(xdata, ydata, zdata, c=zdata, cmap='Reds');\n",
    "ax.legend(['Measurements', 'Reference'])"
   ]
  },
  {
   "cell_type": "code",
   "execution_count": null,
   "metadata": {
    "pycharm": {
     "is_executing": false
    }
   },
   "outputs": [],
   "source": [
    "#lest vizualise some data\n",
    "fig = plt.figure()\n",
    "ax = plt.axes(projection='3d')\n",
    "\n",
    "# Data for three-dimensional scattered points\n",
    "zdata = real_33kg[\"z\"][0:1000]\n",
    "xdata = real_33kg[\"x\"][0:1000]\n",
    "ydata = real_33kg[\"y\"][0:1000]\n",
    "ax.scatter3D(xdata, ydata, zdata, c=zdata, cmap='Greens');\n",
    "# Data for three-dimensional scattered points\n",
    "zdata = real_33kg[\"tz\"][0:1000]\n",
    "xdata = real_33kg[\"tx\"][0:1000]\n",
    "ydata = real_33kg[\"ty\"][0:1000]\n",
    "ax.scatter3D(xdata, ydata, zdata, c=zdata, cmap='Reds');\n",
    "ax.legend(['Measurements', 'Reference'])"
   ]
  },
  {
   "cell_type": "code",
   "execution_count": null,
   "metadata": {
    "pycharm": {
     "is_executing": false
    }
   },
   "outputs": [],
   "source": [
    "#lest vizualise some data\n",
    "fig = plt.figure()\n",
    "ax = plt.axes(projection='3d')\n",
    "\n",
    "# Data for three-dimensional scattered points\n",
    "zdata = real_5kg[\"z\"][300:1000]\n",
    "xdata = real_5kg[\"x\"][300:1000]\n",
    "ydata = real_5kg[\"y\"][300:1000]\n",
    "ax.scatter3D(xdata, ydata, zdata, c=zdata, cmap='Greens');\n",
    "# Data for three-dimensional scattered points\n",
    "zdata = real_5kg[\"tz\"][300:1000]\n",
    "xdata = real_5kg[\"tx\"][300:1000]\n",
    "ydata = real_5kg[\"ty\"][300:1000]\n",
    "ax.scatter3D(xdata, ydata, zdata, c=zdata, cmap='Reds');\n",
    "ax.legend(['Measurements', 'Reference'])"
   ]
  },
  {
   "cell_type": "code",
   "execution_count": null,
   "metadata": {
    "pycharm": {
     "is_executing": false
    }
   },
   "outputs": [],
   "source": [
    "real_5kg_Y=pd.DataFrame()\n",
    "real_5kg_Y[\"ex\"] = real_5kg[\"tx\"]-real_5kg[\"x\"]\n",
    "real_5kg_Y[\"ey\"] = real_5kg[\"ty\"]-real_5kg[\"y\"]\n",
    "real_5kg_Y[\"ez\"] = real_5kg[\"tz\"]-real_5kg[\"z\"]\n",
    "real_5kg_Y.describe()"
   ]
  },
  {
   "cell_type": "code",
   "execution_count": null,
   "metadata": {
    "pycharm": {
     "is_executing": false
    }
   },
   "outputs": [],
   "source": [
    "real_17kg_Y=pd.DataFrame()\n",
    "real_17kg_Y[\"ex\"] = real_17kg[\"tx\"]-real_17kg[\"x\"]\n",
    "real_17kg_Y[\"ey\"] = real_17kg[\"ty\"]-real_17kg[\"y\"]\n",
    "real_17kg_Y[\"ez\"] = real_17kg[\"tz\"]-real_17kg[\"z\"]\n",
    "real_17kg_Y.describe()"
   ]
  },
  {
   "cell_type": "code",
   "execution_count": null,
   "metadata": {
    "pycharm": {
     "is_executing": false
    }
   },
   "outputs": [],
   "source": [
    "real_33kg_Y=pd.DataFrame()\n",
    "real_33kg_Y[\"ex\"] = real_33kg[\"tx\"]-real_33kg[\"x\"]\n",
    "real_33kg_Y[\"ey\"] = real_33kg[\"ty\"]-real_33kg[\"y\"]\n",
    "real_33kg_Y[\"ez\"] = real_33kg[\"tz\"]-real_33kg[\"z\"]\n",
    "real_33kg_Y.describe()"
   ]
  },
  {
   "cell_type": "code",
   "execution_count": null,
   "metadata": {
    "scrolled": false,
    "pycharm": {
     "is_executing": false
    }
   },
   "outputs": [],
   "source": [
    "err=mean_absolute_error(np.zeros(real_5kg_Y.shape),real_5kg_Y)\n",
    "print(\"Error in 5kg: \"+str(err))"
   ]
  },
  {
   "cell_type": "code",
   "execution_count": null,
   "metadata": {
    "pycharm": {
     "is_executing": false
    }
   },
   "outputs": [],
   "source": [
    "err=mean_absolute_error(np.zeros(real_17kg_Y.shape),real_17kg_Y)\n",
    "print(\"Error in 17kg: \"+str(err))"
   ]
  },
  {
   "cell_type": "code",
   "execution_count": null,
   "metadata": {
    "pycharm": {
     "is_executing": false
    }
   },
   "outputs": [],
   "source": [
    "err=mean_absolute_error(np.zeros(real_33kg_Y.shape),real_33kg_Y)\n",
    "print(\"Error in 33kg: \"+str(err))"
   ]
  },
  {
   "cell_type": "code",
   "execution_count": null,
   "metadata": {
    "pycharm": {
     "is_executing": false
    }
   },
   "outputs": [],
   "source": [
    "#test idea to swithch 5 and 33 and test tranfer\n",
    "real_X1=pd.DataFrame()\n",
    "real_X1[\"x\"] = real_5kg[\"x\"]\n",
    "real_X1[\"y\"] = real_5kg[\"y\"]\n",
    "real_X1[\"z\"] = real_5kg[\"z\"]\n",
    "real_X2=pd.DataFrame()\n",
    "real_X2[\"x\"] = real_33kg[\"x\"]\n",
    "real_X2[\"y\"] = real_33kg[\"y\"]\n",
    "real_X2[\"z\"] = real_33kg[\"z\"]\n"
   ]
  },
  {
   "cell_type": "code",
   "execution_count": null,
   "metadata": {
    "pycharm": {
     "is_executing": false
    }
   },
   "outputs": [],
   "source": [
    "scalerX1Real = StandardScaler()\n",
    "real_X1_scaled = scalerX1Real.fit_transform(real_X1)\n",
    "dump(scalerX1Real, 'scalerX1Real.joblib')\n",
    "\n",
    "scalerX2Real = StandardScaler()\n",
    "real_X2_scaled = scalerX2Real.fit_transform(real_X2)\n",
    "dump(scalerX2Real, 'sim_scalerX2Real.joblib')\n",
    "\n",
    "real_X2_scaled_X1 = scalerX1Real.fit_transform(real_X2)\n"
   ]
  },
  {
   "cell_type": "code",
   "execution_count": null,
   "metadata": {
    "pycharm": {
     "is_executing": false
    }
   },
   "outputs": [],
   "source": [
    "epochs=10\n",
    "fromepochs=round(2000/epochs)\n",
    "toepochs=round(20000/epochs)\n",
    "\n",
    "def train(ep):\n",
    "    model.fit(X_train,y_train,epochs=epochs,batch_size=300, verbose=0)\n",
    "    pred1=model.predict(X_train)\n",
    "    pred2=model.predict(X_test)\n",
    "    err1=mean_absolute_error(pred1,y_train)\n",
    "    err2=mean_absolute_error(pred2,y_test)\n",
    "    return err1,err2\n",
    "\n",
    "plt_err1=[]\n",
    "plt_err2=[]\n",
    "\n",
    "\n",
    "for attempt in range(num_attempts):\n",
    "\n",
    "    X_train, X_test, y_train, y_test = train_test_split(real_X1_scaled, real_5kg_Y, test_size=0.4, random_state=seed+attempt)\n",
    "\n",
    "\n",
    "    model = baseline_model(activation='tanh')\n",
    "\n",
    "    \n",
    "    plt_err1_l=[]\n",
    "    plt_err2_l=[]\n",
    "    epch=[]\n",
    "    \n",
    "    for ep in range(1,toepochs):\n",
    "        err1,err2=train(ep)\n",
    "        plt_err1_l.append(err1)\n",
    "        plt_err2_l.append(err2)\n",
    "        epch.append(ep)\n",
    "\n",
    "    \n",
    "\n",
    "    model.save('real_modelX1.h5')\n",
    "\n",
    "    plt_err1.append(plt_err1_l)\n",
    "    plt_err2.append(plt_err2_l)\n",
    "    \n",
    "#av results\n",
    "plt_err1=mean_results(plt_err1)\n",
    "plt_err2=mean_results(plt_err2)\n",
    "\n",
    "\n",
    "plt.plot(epch[fromepochs:],plt_err1[fromepochs:],label=\"Training Loss\")\n",
    "plt.plot(epch[fromepochs:],plt_err2[fromepochs:],'r--',label=\"Test Loss\")\n",
    "plt.xlabel('Epoch')\n",
    "plt.ylabel('Loss')\n",
    "plt.legend()\n",
    "plt.show()\n",
    "print(plt_err2[-5:-1])\n",
    "\n",
    "backup=pd.DataFrame()\n",
    "backup[\"epch\"] = epch\n",
    "backup[\"plt_err1\"] = plt_err1\n",
    "backup[\"plt_err2\"] = plt_err2\n",
    "backup.to_csv(\"figure10.csv\", index = None, header=True)\n"
   ]
  },
  {
   "cell_type": "markdown",
   "metadata": {},
   "source": [
    "# 3.4 Real robot to real robot with different mass compensation"
   ]
  },
  {
   "cell_type": "code",
   "execution_count": null,
   "metadata": {
    "pycharm": {
     "is_executing": false
    }
   },
   "outputs": [],
   "source": [
    "\n",
    "\n",
    "plt_err1=[]\n",
    "plt_err2=[]\n",
    "plt_err1_linear=[]\n",
    "plt_err2_linear=[]\n",
    "plt_err1_transferred=[]\n",
    "plt_err2_transferred=[]\n",
    "\n",
    "for attempt in range(num_attempts):\n",
    "    X_train, X_test, y_train, y_test = train_test_split(real_X2_scaled, real_33kg_Y, test_size=0.4, random_state=seed+attempt)\n",
    "\n",
    "\n",
    "    plt_err1_l=[]\n",
    "    plt_err2_l=[]\n",
    "    plt_err1_linear_l=[]\n",
    "    plt_err2_linear_l=[]\n",
    "    plt_err1_transferred_l=[]\n",
    "    plt_err2_transferred_l=[]\n",
    "    numsamples=[]\n",
    "\n",
    "\n",
    "    for numsample in range(2, 15):\n",
    "        print(\"Estimating num samples: \"+str(numsample*10))\n",
    "        modelTransferred = keras.models.load_model('real_modelX1.h5')\n",
    "        model_linear = LinearRegression()\n",
    "        modelNew = baseline_model(activation='tanh')\n",
    "\n",
    "        modelNew.fit(X_train[0:numsample*10],y_train[0:numsample*10],epochs=10 + round(numsample*400),batch_size=numsample, verbose=0)\n",
    "        pred1=modelNew.predict(X_train)\n",
    "        pred2=modelNew.predict(X_test)\n",
    "        err1=mean_absolute_error(pred1,y_train)\n",
    "        err2=mean_absolute_error(pred2,y_test)\n",
    "\n",
    "        modelTransferred.fit(X_train[0:numsample*10],y_train[0:numsample*10],epochs=10 + round(numsample*400),batch_size=numsample, verbose=0)\n",
    "        pred1=modelTransferred.predict(X_train)\n",
    "        pred2=modelTransferred.predict(X_test)\n",
    "        err3=mean_absolute_error(pred1,y_train)\n",
    "        err4=mean_absolute_error(pred2,y_test)\n",
    "\n",
    "        model_linear.fit(X_train[0:numsample*10],y_train[0:numsample*10])\n",
    "        pred1=model_linear.predict(X_train)\n",
    "        pred2=model_linear.predict(X_test)\n",
    "        err5=mean_absolute_error(pred1,y_train)\n",
    "        err6=mean_absolute_error(pred2,y_test)\n",
    "\n",
    "        plt_err1_l.append(err1)\n",
    "        plt_err2_l.append(err2)\n",
    "\n",
    "        plt_err1_transferred_l.append(err3)\n",
    "        plt_err2_transferred_l.append(err4)\n",
    "\n",
    "        plt_err1_linear_l.append(err5)\n",
    "        plt_err2_linear_l.append(err6)\n",
    "\n",
    "        numsamples.append(numsample*10)\n",
    "        \n",
    "        plt_err1.append(plt_err1_l)\n",
    "        plt_err2.append(plt_err2_l)\n",
    "        plt_err1_linear.append(plt_err1_linear_l)\n",
    "        plt_err2_linear.append(plt_err2_linear_l)\n",
    "        plt_err1_transferred.append(plt_err1_transferred_l)\n",
    "        plt_err2_transferred.append(plt_err2_transferred_l)\n",
    "\n",
    "\n",
    "#av results\n",
    "plt_err1=mean_results(plt_err1)\n",
    "plt_err2=mean_results(plt_err2)\n",
    "plt_err1_linear=mean_results(plt_err1_linear)\n",
    "plt_err2_linear=mean_results(plt_err2_linear)\n",
    "plt_err1_transferred=mean_results(plt_err1_transferred)\n",
    "plt_err2_transferred=mean_results(plt_err2_transferred)\n",
    "    \n",
    "    \n",
    "    \n",
    "    \n",
    "plt.plot(numsamples,plt_err1,'r--',label=\"Training dist\")\n",
    "plt.plot(numsamples,plt_err2,'r',label=\"Test dist\")\n",
    "\n",
    "plt.plot(numsamples,plt_err1_linear,'g--',label=\"Training dist linear\")\n",
    "plt.plot(numsamples,plt_err2_linear,'g',label=\"Test dist linear\")\n",
    "\n",
    "plt.plot(numsamples,plt_err1_transferred,'b--',label=\"Training dist Transfered\")\n",
    "plt.plot(numsamples,plt_err2_transferred,'b',label=\"Test dist Transfered\")\n",
    "\n",
    "plt.xlabel('Samples')\n",
    "plt.ylabel('Loss')\n",
    "plt.legend()\n",
    "plt.show()\n",
    "\n",
    "\n",
    "backup=pd.DataFrame()\n",
    "backup[\"numsamples\"] = numsamples\n",
    "backup[\"plt_err1\"] = plt_err1\n",
    "backup[\"plt_err2\"] = plt_err2\n",
    "backup[\"plt_err1_linear\"] = plt_err1_linear\n",
    "backup[\"plt_err2_linear\"] = plt_err2_linear\n",
    "backup[\"plt_err1_transferred\"] = plt_err1_transferred\n",
    "backup[\"plt_err2_transferred\"] = plt_err2_transferred\n",
    "backup.to_csv(\"figur11.csv\", index = None, header=True)\n",
    "\n"
   ]
  },
  {
   "cell_type": "code",
   "execution_count": null,
   "metadata": {
    "pycharm": {
     "is_executing": false
    }
   },
   "outputs": [],
   "source": [
    "X_train, X_test, y_train, y_test = train_test_split(real_X2_scaled, real_33kg_Y, test_size=0.4, random_state=seed)\n",
    "\n",
    "\n",
    "plt_err1=[]\n",
    "plt_err2=[]\n",
    "plt_err1_linear=[]\n",
    "plt_err2_linear=[]\n",
    "plt_err1_transferred=[]\n",
    "plt_err2_transferred=[]\n",
    "numsamples=[]\n",
    "\n",
    "\n",
    "for numsample in range(2, 17):\n",
    "    print(\"Estimating num samples: \"+str(numsample*10))\n",
    "    modelTransferred = keras.models.load_model('real_modelX1.h5')\n",
    "    model_linear = LinearRegression()\n",
    "    modelNew = baseline_model(activation='tanh')\n",
    "    \n",
    "    modelNew.fit(X_train[0:numsample*10],y_train[0:numsample*10],epochs=10 + round(numsample*400), verbose=0)\n",
    "    pred1=modelNew.predict(X_train)\n",
    "    pred2=modelNew.predict(X_test)\n",
    "    err1=mean_absolute_error(pred1,y_train)\n",
    "    err2=mean_absolute_error(pred2,y_test)\n",
    "    \n",
    "    modelTransferred.fit(X_train[0:numsample*10],y_train[0:numsample*10],epochs=10 + round(numsample*400), verbose=0)\n",
    "    pred1=modelTransferred.predict(X_train)\n",
    "    pred2=modelTransferred.predict(X_test)\n",
    "    err3=mean_absolute_error(pred1,y_train)\n",
    "    err4=mean_absolute_error(pred2,y_test)\n",
    "    \n",
    "    model_linear.fit(X_train[0:numsample*10],y_train[0:numsample*10])\n",
    "    pred1=model_linear.predict(X_train)\n",
    "    pred2=model_linear.predict(X_test)\n",
    "    err5=mean_absolute_error(pred1,y_train)\n",
    "    err6=mean_absolute_error(pred2,y_test)\n",
    "    \n",
    "    plt_err1.append(err1)\n",
    "    plt_err2.append(err2)\n",
    "    \n",
    "    plt_err1_transferred.append(err3)\n",
    "    plt_err2_transferred.append(err4)\n",
    "    \n",
    "    plt_err1_linear.append(err5)\n",
    "    plt_err2_linear.append(err6)\n",
    "    \n",
    "    numsamples.append(numsample*10)\n",
    "    \n",
    "plt.plot(numsamples,plt_err1,'r--',label=\"Training dist\")\n",
    "plt.plot(numsamples,plt_err2,'r',label=\"Test dist\")\n",
    "\n",
    "plt.plot(numsamples,plt_err1_linear,'g--',label=\"Training dist linear\")\n",
    "plt.plot(numsamples,plt_err2_linear,'g',label=\"Test dist linear\")\n",
    "\n",
    "plt.plot(numsamples,plt_err1_transferred,'b--',label=\"Training dist Transfered\")\n",
    "plt.plot(numsamples,plt_err2_transferred,'b',label=\"Test dist Transfered\")\n",
    "\n",
    "plt.xlabel('Samples')\n",
    "plt.ylabel('Loss')\n",
    "plt.legend()\n",
    "plt.show()\n",
    "\n",
    "\n",
    "backup=pd.DataFrame()\n",
    "backup[\"numsamples\"] = numsamples\n",
    "backup[\"plt_err1\"] = plt_err1\n",
    "backup[\"plt_err2\"] = plt_err2\n",
    "backup[\"plt_err1_linear\"] = plt_err1_linear\n",
    "backup[\"plt_err2_linear\"] = plt_err2_linear\n",
    "backup[\"plt_err1_transferred\"] = plt_err1_transferred\n",
    "backup[\"plt_err2_transferred\"] = plt_err2_transferred\n",
    "backup.to_csv(\"figure11.csv\", index = None, header=True)"
   ]
  },
  {
   "cell_type": "markdown",
   "metadata": {},
   "source": [
    "# 3.5 Unity simulation to real robot transfer learning"
   ]
  },
  {
   "cell_type": "code",
   "execution_count": null,
   "metadata": {
    "pycharm": {
     "is_executing": false
    }
   },
   "outputs": [],
   "source": [
    "plt_err1=[]\n",
    "plt_err2=[]\n",
    "plt_err1_linear=[]\n",
    "plt_err2_linear=[]\n",
    "plt_err1_transferred=[]\n",
    "plt_err2_transferred=[]\n",
    "\n",
    "for attempt in range(num_attempts):\n",
    "    X_train, X_test, y_train, y_test = train_test_split(real_X1_scaled, real_5kg_Y, test_size=0.4, random_state=seed+attempt)\n",
    "\n",
    "\n",
    "    plt_err1_l=[]\n",
    "    plt_err2_l=[]\n",
    "    plt_err1_linear_l=[]\n",
    "    plt_err2_linear_l=[]\n",
    "    plt_err1_transferred_l=[]\n",
    "    plt_err2_transferred_l=[]\n",
    "    numsamples=[]\n",
    "\n",
    "\n",
    "    for numsample in range(2, 15):\n",
    "        print(\"Estimating num samples: \"+str(numsample*10))\n",
    "        modelTransferred = keras.models.load_model('sim_modelX1.h5')\n",
    "        model_linear = LinearRegression()\n",
    "        modelNew = baseline_model(activation='tanh')\n",
    "\n",
    "        modelNew.fit(X_train[0:numsample*10],y_train[0:numsample*10],epochs=10 + round(numsample*300),batch_size=numsample, verbose=0)\n",
    "        pred1=modelNew.predict(X_train)\n",
    "        pred2=modelNew.predict(X_test)\n",
    "        err1=mean_absolute_error(pred1,y_train)\n",
    "        err2=mean_absolute_error(pred2,y_test)\n",
    "\n",
    "        modelTransferred.fit(X_train[0:numsample*10],y_train[0:numsample*10],epochs=10 + round(numsample*300),batch_size=numsample, verbose=0)\n",
    "        pred1=modelTransferred.predict(X_train)\n",
    "        pred2=modelTransferred.predict(X_test)\n",
    "        err3=mean_absolute_error(pred1,y_train)\n",
    "        err4=mean_absolute_error(pred2,y_test)\n",
    "\n",
    "        model_linear.fit(X_train[0:numsample*10],y_train[0:numsample*10])\n",
    "        pred1=model_linear.predict(X_train)\n",
    "        pred2=model_linear.predict(X_test)\n",
    "        err5=mean_absolute_error(pred1,y_train)\n",
    "        err6=mean_absolute_error(pred2,y_test)\n",
    "\n",
    "        plt_err1_l.append(err1)\n",
    "        plt_err2_l.append(err2)\n",
    "\n",
    "        plt_err1_transferred_l.append(err3)\n",
    "        plt_err2_transferred_l.append(err4)\n",
    "\n",
    "        plt_err1_linear_l.append(err5)\n",
    "        plt_err2_linear_l.append(err6)\n",
    "\n",
    "        numsamples.append(numsample*10)\n",
    "        \n",
    "        plt_err1.append(plt_err1_l)\n",
    "        plt_err2.append(plt_err2_l)\n",
    "        plt_err1_linear.append(plt_err1_linear_l)\n",
    "        plt_err2_linear.append(plt_err2_linear_l)\n",
    "        plt_err1_transferred.append(plt_err1_transferred_l)\n",
    "        plt_err2_transferred.append(plt_err2_transferred_l)\n",
    "\n",
    "\n",
    "#av results\n",
    "plt_err1=mean_results(plt_err1)\n",
    "plt_err2=mean_results(plt_err2)\n",
    "plt_err1_linear=mean_results(plt_err1_linear)\n",
    "plt_err2_linear=mean_results(plt_err2_linear)\n",
    "plt_err1_transferred=mean_results(plt_err1_transferred)\n",
    "plt_err2_transferred=mean_results(plt_err2_transferred)\n",
    "    \n",
    "    \n",
    "    \n",
    "    \n",
    "plt.plot(numsamples,plt_err1,'r--',label=\"Training dist\")\n",
    "plt.plot(numsamples,plt_err2,'r',label=\"Test dist\")\n",
    "\n",
    "plt.plot(numsamples,plt_err1_linear,'g--',label=\"Training dist linear\")\n",
    "plt.plot(numsamples,plt_err2_linear,'g',label=\"Test dist linear\")\n",
    "\n",
    "plt.plot(numsamples,plt_err1_transferred,'b--',label=\"Training dist Transfered\")\n",
    "plt.plot(numsamples,plt_err2_transferred,'b',label=\"Test dist Transfered\")\n",
    "\n",
    "plt.xlabel('Samples')\n",
    "plt.ylabel('Loss')\n",
    "plt.legend()\n",
    "plt.show()\n",
    "\n",
    "\n",
    "backup=pd.DataFrame()\n",
    "backup[\"numsamples\"] = numsamples\n",
    "backup[\"plt_err1\"] = plt_err1\n",
    "backup[\"plt_err2\"] = plt_err2\n",
    "backup[\"plt_err1_linear\"] = plt_err1_linear\n",
    "backup[\"plt_err2_linear\"] = plt_err2_linear\n",
    "backup[\"plt_err1_transferred\"] = plt_err1_transferred\n",
    "backup[\"plt_err2_transferred\"] = plt_err2_transferred\n",
    "backup.to_csv(\"figure12.csv\", index = None, header=True)\n",
    "\n"
   ]
  },
  {
   "cell_type": "code",
   "execution_count": null,
   "metadata": {
    "pycharm": {
     "is_executing": false,
     "name": "#%%\n"
    }
   },
   "outputs": [],
   "source": [
    "plt_err1=[]\n",
    "plt_err2=[]\n",
    "plt_err1_linear=[]\n",
    "plt_err2_linear=[]\n",
    "plt_err1_transferred=[]\n",
    "plt_err2_transferred=[]\n",
    "\n",
    "for attempt in range(num_attempts):\n",
    "    X_train, X_test, y_train, y_test = train_test_split(real_X2_scaled, real_33kg_Y, test_size=0.4, random_state=seed+attempt)\n",
    "\n",
    "\n",
    "    plt_err1_l=[]\n",
    "    plt_err2_l=[]\n",
    "    plt_err1_linear_l=[]\n",
    "    plt_err2_linear_l=[]\n",
    "    plt_err1_transferred_l=[]\n",
    "    plt_err2_transferred_l=[]\n",
    "    numsamples=[]\n",
    "\n",
    "\n",
    "    for numsample in range(2, 15):\n",
    "        print(\"Estimating num samples: \"+str(numsample*10))\n",
    "        modelTransferred = keras.models.load_model('sim_modelX1.h5')\n",
    "        model_linear = LinearRegression()\n",
    "        modelNew = baseline_model(activation='tanh')\n",
    "\n",
    "        modelNew.fit(X_train[0:numsample*10],y_train[0:numsample*10],epochs=10 + round(numsample*300),batch_size=numsample, verbose=0)\n",
    "        pred1=modelNew.predict(X_train)\n",
    "        pred2=modelNew.predict(X_test)\n",
    "        err1=mean_absolute_error(pred1,y_train)\n",
    "        err2=mean_absolute_error(pred2,y_test)\n",
    "\n",
    "        modelTransferred.fit(X_train[0:numsample*10],y_train[0:numsample*10],epochs=10 + round(numsample*300),batch_size=numsample, verbose=0)\n",
    "        pred1=modelTransferred.predict(X_train)\n",
    "        pred2=modelTransferred.predict(X_test)\n",
    "        err3=mean_absolute_error(pred1,y_train)\n",
    "        err4=mean_absolute_error(pred2,y_test)\n",
    "\n",
    "        model_linear.fit(X_train[0:numsample*10],y_train[0:numsample*10])\n",
    "        pred1=model_linear.predict(X_train)\n",
    "        pred2=model_linear.predict(X_test)\n",
    "        err5=mean_absolute_error(pred1,y_train)\n",
    "        err6=mean_absolute_error(pred2,y_test)\n",
    "\n",
    "        plt_err1_l.append(err1)\n",
    "        plt_err2_l.append(err2)\n",
    "\n",
    "        plt_err1_transferred_l.append(err3)\n",
    "        plt_err2_transferred_l.append(err4)\n",
    "\n",
    "        plt_err1_linear_l.append(err5)\n",
    "        plt_err2_linear_l.append(err6)\n",
    "\n",
    "        numsamples.append(numsample*10)\n",
    "        \n",
    "        plt_err1.append(plt_err1_l)\n",
    "        plt_err2.append(plt_err2_l)\n",
    "        plt_err1_linear.append(plt_err1_linear_l)\n",
    "        plt_err2_linear.append(plt_err2_linear_l)\n",
    "        plt_err1_transferred.append(plt_err1_transferred_l)\n",
    "        plt_err2_transferred.append(plt_err2_transferred_l)\n",
    "\n",
    "\n",
    "#av results\n",
    "plt_err1=mean_results(plt_err1)\n",
    "plt_err2=mean_results(plt_err2)\n",
    "plt_err1_linear=mean_results(plt_err1_linear)\n",
    "plt_err2_linear=mean_results(plt_err2_linear)\n",
    "plt_err1_transferred=mean_results(plt_err1_transferred)\n",
    "plt_err2_transferred=mean_results(plt_err2_transferred)\n",
    "    \n",
    "    \n",
    "    \n",
    "    \n",
    "plt.plot(numsamples,plt_err1,'r--',label=\"Training dist\")\n",
    "plt.plot(numsamples,plt_err2,'r',label=\"Test dist\")\n",
    "\n",
    "plt.plot(numsamples,plt_err1_linear,'g--',label=\"Training dist linear\")\n",
    "plt.plot(numsamples,plt_err2_linear,'g',label=\"Test dist linear\")\n",
    "\n",
    "plt.plot(numsamples,plt_err1_transferred,'b--',label=\"Training dist Transfered\")\n",
    "plt.plot(numsamples,plt_err2_transferred,'b',label=\"Test dist Transfered\")\n",
    "\n",
    "plt.xlabel('Samples')\n",
    "plt.ylabel('Loss')\n",
    "plt.legend()\n",
    "plt.show()\n",
    "\n",
    "\n",
    "backup=pd.DataFrame()\n",
    "backup[\"numsamples\"] = numsamples\n",
    "backup[\"plt_err1\"] = plt_err1\n",
    "backup[\"plt_err2\"] = plt_err2\n",
    "backup[\"plt_err1_linear\"] = plt_err1_linear\n",
    "backup[\"plt_err2_linear\"] = plt_err2_linear\n",
    "backup[\"plt_err1_transferred\"] = plt_err1_transferred\n",
    "backup[\"plt_err2_transferred\"] = plt_err2_transferred\n",
    "backup.to_csv(\"figur13.csv\", index = None, header=True)"
   ]
  }
 ],
 "metadata": {
  "kernelspec": {
   "display_name": "Python 3",
   "language": "python",
   "name": "python3"
  },
  "language_info": {
   "codemirror_mode": {
    "name": "ipython",
    "version": 3
   },
   "file_extension": ".py",
   "mimetype": "text/x-python",
   "name": "python",
   "nbconvert_exporter": "python",
   "pygments_lexer": "ipython3",
   "version": "3.7.4"
  },
  "pycharm": {
   "stem_cell": {
    "cell_type": "raw",
    "source": [],
    "metadata": {
     "collapsed": false
    }
   }
  }
 },
 "nbformat": 4,
 "nbformat_minor": 2
}